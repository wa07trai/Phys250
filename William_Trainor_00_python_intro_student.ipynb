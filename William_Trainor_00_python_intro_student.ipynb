{
  "nbformat": 4,
  "nbformat_minor": 0,
  "metadata": {
    "colab": {
      "provenance": [],
      "include_colab_link": true
    },
    "kernelspec": {
      "name": "python3",
      "display_name": "Python 3"
    },
    "language_info": {
      "name": "python"
    }
  },
  "cells": [
    {
      "cell_type": "markdown",
      "metadata": {
        "id": "view-in-github",
        "colab_type": "text"
      },
      "source": [
        "<a href=\"https://colab.research.google.com/github/wa07trai/Phys250/blob/main/William_Trainor_00_python_intro_student.ipynb\" target=\"_parent\"><img src=\"https://colab.research.google.com/assets/colab-badge.svg\" alt=\"Open In Colab\"/></a>"
      ]
    },
    {
      "cell_type": "code",
      "execution_count": null,
      "metadata": {
        "id": "kvsJXb9MqEbx"
      },
      "outputs": [],
      "source": []
    },
    {
      "cell_type": "markdown",
      "source": [
        "# Import modules\n",
        "\n",
        "```\n",
        "import numpy as np\n",
        "from matplotlib import pyplot as plt\n",
        "```"
      ],
      "metadata": {
        "id": "3W-irX9hqHyY"
      }
    },
    {
      "cell_type": "code",
      "source": [
        "import numpy as np\n",
        "from matplotlib import pyplot as plt\n"
      ],
      "metadata": {
        "id": "PUDGrE9RqNPo"
      },
      "execution_count": 3,
      "outputs": []
    },
    {
      "cell_type": "markdown",
      "source": [
        "# Defining Variables\n",
        "\n",
        "### A single variable\n",
        "```\n",
        "x = 2\n",
        "```\n",
        "\n",
        "### A list\n",
        "A list can contain different types of elements: numbers, strings, array, tuples.\n",
        "```\n",
        "mynumbers = [1,2,3]\n",
        "```\n",
        "\n",
        "```\n",
        "myletters = ['a','b','c','d','e']\n",
        "```\n",
        "\n",
        "\n"
      ],
      "metadata": {
        "id": "tfvZlkCbqPz5"
      }
    },
    {
      "cell_type": "code",
      "source": [
        "x=1\n"
      ],
      "metadata": {
        "id": "RZ31vpmLqa4T"
      },
      "execution_count": null,
      "outputs": []
    },
    {
      "cell_type": "markdown",
      "source": [
        "# Printing\n",
        "\n",
        "Printing is so important when developing code.  If something is not working,\n",
        "you should insert print statements to check the values of your variables\n",
        "at different points in your code.\n",
        "\n",
        "The basic print format is:\n",
        "\n",
        "```\n",
        "print(\"This is a print statement.\")\n",
        "```"
      ],
      "metadata": {
        "id": "7tRzR95wqdzv"
      }
    },
    {
      "cell_type": "code",
      "source": [
        "print(\"hello\")\n",
        "\n",
        "x=1"
      ],
      "metadata": {
        "id": "oLJF171arQ4Y",
        "colab": {
          "base_uri": "https://localhost:8080/"
        },
        "outputId": "2312da22-52be-4109-d5ed-96c78cc32043"
      },
      "execution_count": 14,
      "outputs": [
        {
          "output_type": "stream",
          "name": "stdout",
          "text": [
            "hello\n"
          ]
        }
      ]
    },
    {
      "cell_type": "markdown",
      "source": [
        "# Formatting Printing\n",
        "\n",
        "Our variables often have a large number of decimal places, and you might not\n",
        "want to print the full number.  "
      ],
      "metadata": {
        "id": "li3daLSnrcl-"
      }
    },
    {
      "cell_type": "code",
      "source": [
        "# formatted print statement\n",
        "print(f\"the value of x equals {x}\")\n",
        "\n",
        "print(f\"pi equals {np.pi :.2e}\")\n",
        "\n",
        "G= 6.67e-11\n",
        "\n",
        "print(f\"{G:.2e}\")\n",
        "\n"
      ],
      "metadata": {
        "id": "wbXTXLl1uGOy",
        "colab": {
          "base_uri": "https://localhost:8080/"
        },
        "outputId": "4a43dfab-a41f-437d-ad1d-94af756569e2"
      },
      "execution_count": 24,
      "outputs": [
        {
          "output_type": "stream",
          "name": "stdout",
          "text": [
            "the value of x equals 1\n",
            "pi equals 3.14e+00\n",
            "6.67e-11\n"
          ]
        }
      ]
    },
    {
      "cell_type": "markdown",
      "source": [
        "# Functions\n",
        "\n",
        "Functions are chunks of code that can take input arguments and\n",
        "can return values.\n",
        "\n",
        "Here is a simple function that takes a number as an input and\n",
        "returns the number plus one and then prints the results.\n",
        "\n",
        "```\n",
        "def addone(x):\n",
        "    \"\"\"  this function adds one to the input number \"\"\"\n",
        "    x = x + 1\n",
        "    print(x)\n",
        "```"
      ],
      "metadata": {
        "id": "t8n87cLIuJsk"
      }
    },
    {
      "cell_type": "code",
      "source": [
        "# define the addone function here\n",
        "def addone(x):\n",
        "  \"\"\"this function adds one\"\"\"\n",
        "  x=x+1\n",
        "  return x\n"
      ],
      "metadata": {
        "id": "r8bSMEdrvRl5"
      },
      "execution_count": 58,
      "outputs": []
    },
    {
      "cell_type": "markdown",
      "source": [
        "### Calling a function\n",
        "\n",
        "In the cell below, set `x=1` and pass `x` to `addone`.\n",
        "\n",
        "Then let's look at what happens to the value of x in the\n",
        "variable editor."
      ],
      "metadata": {
        "id": "ElWsHnE9vczc"
      }
    },
    {
      "cell_type": "code",
      "source": [
        "x = 1\n",
        "#defining variable\n",
        "\n",
        "#passing function\n",
        "addone(x)\n",
        "\n",
        "y=addone(x)\n",
        "\n"
      ],
      "metadata": {
        "id": "zOjAknPIvVF9"
      },
      "execution_count": 46,
      "outputs": []
    },
    {
      "cell_type": "markdown",
      "source": [
        "### Returning values from a function"
      ],
      "metadata": {
        "id": "e41blLTnvsut"
      }
    },
    {
      "cell_type": "code",
      "source": [
        "# update the addone funtion to:\n",
        "# print 2 decimal places\n",
        "# return the new value\n",
        "print(f\"{y:.2f}\")\n",
        "\n",
        "\n"
      ],
      "metadata": {
        "id": "iMRz5wUUuYcc",
        "colab": {
          "base_uri": "https://localhost:8080/"
        },
        "outputId": "aa664832-2148-4685-9092-df340568a1d0"
      },
      "execution_count": 59,
      "outputs": [
        {
          "output_type": "stream",
          "name": "stdout",
          "text": [
            "2.00\n"
          ]
        }
      ]
    },
    {
      "cell_type": "markdown",
      "source": [
        "# For Loops\n",
        "\n",
        "Let's set up an array to contain 10 values:\n",
        "```\n",
        "myvals = np.arange(10)\n",
        "```\n",
        "\n",
        "Now let's use a for loop to print out the number greater than 5.\n",
        "\n"
      ],
      "metadata": {
        "id": "3g7RUJ2bwsw5"
      }
    },
    {
      "cell_type": "code",
      "source": [
        "myvals = np.arange(10)\n",
        "print(myvals)\n",
        "\n",
        "\n",
        "for i in myvals:\n",
        "\n",
        "  if i>5:\n",
        "    print(i)\n",
        "\n",
        "#for i in range(len(myvals)):\n",
        " # print(myvals[i])\n",
        "#\n",
        "\n",
        ""
      ],
      "metadata": {
        "id": "Z6zyk-LUw1BT",
        "colab": {
          "base_uri": "https://localhost:8080/"
        },
        "outputId": "ca43fd73-1c42-4fe0-bec6-d0a49204adbf"
      },
      "execution_count": 75,
      "outputs": [
        {
          "output_type": "stream",
          "name": "stdout",
          "text": [
            "[0 1 2 3 4 5 6 7 8 9]\n",
            "6\n",
            "7\n",
            "8\n",
            "9\n"
          ]
        }
      ]
    },
    {
      "cell_type": "markdown",
      "source": [
        "# While loops\n",
        "\n",
        "A `while` loop will continue until the conditional is not met.\n",
        "\n",
        "Let's write a while loop to keep incrementing a number until the number reaches 20."
      ],
      "metadata": {
        "id": "N-lEkNdexYFG"
      }
    },
    {
      "cell_type": "code",
      "source": [
        "# while loop to keep incrementing a number until the number reaches 20\n",
        "i=0\n",
        "\n",
        "while i<=20:\n",
        "\n",
        "  print(i)\n",
        "\n",
        "  i=i+1"
      ],
      "metadata": {
        "id": "nLaKfZn3JXLq",
        "colab": {
          "base_uri": "https://localhost:8080/"
        },
        "outputId": "907ed16e-a4d8-4b39-bdc0-c3795202db34"
      },
      "execution_count": 82,
      "outputs": [
        {
          "output_type": "stream",
          "name": "stdout",
          "text": [
            "0\n",
            "1\n",
            "2\n",
            "3\n",
            "4\n",
            "5\n",
            "6\n",
            "7\n",
            "8\n",
            "9\n",
            "10\n",
            "11\n",
            "12\n",
            "13\n",
            "14\n",
            "15\n",
            "16\n",
            "17\n",
            "18\n",
            "19\n",
            "20\n"
          ]
        }
      ]
    },
    {
      "cell_type": "markdown",
      "source": [
        "# Conditionals\n",
        "\n"
      ],
      "metadata": {
        "id": "7ZSXMMjfw3Zi"
      }
    },
    {
      "cell_type": "code",
      "source": [
        "# ask for an input number\n",
        "test_number = int(input(\"enter a number between 1 and 10\\n\"))\n",
        "print(f\"You entered {test_number}\")\n",
        "# if number is greater than 10, then reject input\n",
        "'''if test_number>10:\n",
        "  print(\"not correct-value too high\")\n",
        "\n",
        "# if number is less than 1, then reject input\n",
        "if test_number<1:\n",
        "  print(\"not correct- value too low\")\n",
        "# if the user enters 7, print \"lucky guess\"\n",
        "if test_number== 7:\n",
        " print(\"lucky guess\")\n",
        "\n",
        "if 1 <= test_number<= 6:\n",
        "  print(\"not correct\")\n",
        "\n",
        "if 8 <= test_number<= 10:\n",
        "  print(\"not correct\")\n",
        "  '''\n",
        "\n",
        "if(test_number >10):\n",
        "    print(\"too high\")\n",
        "\n",
        "elif(test_number<1):\n",
        "  print(\"too low\")\n",
        "\n",
        "elif(test_number==7):\n",
        "  print(\"lucky guess\")\n",
        "\n",
        "else: print(\"too bad\")\n",
        "# for all other numbers, print \"not correct - better luck next time!\""
      ],
      "metadata": {
        "id": "AiSellYDw2gG",
        "colab": {
          "base_uri": "https://localhost:8080/",
          "height": 390
        },
        "outputId": "460a7720-3f0d-4b47-9c1a-f93a04d25838"
      },
      "execution_count": 113,
      "outputs": [
        {
          "output_type": "error",
          "ename": "KeyboardInterrupt",
          "evalue": "Interrupted by user",
          "traceback": [
            "\u001b[0;31m---------------------------------------------------------------------------\u001b[0m",
            "\u001b[0;31mKeyboardInterrupt\u001b[0m                         Traceback (most recent call last)",
            "\u001b[0;32m<ipython-input-113-7d6f92bd0ad3>\u001b[0m in \u001b[0;36m<cell line: 2>\u001b[0;34m()\u001b[0m\n\u001b[1;32m      1\u001b[0m \u001b[0;31m# ask for an input number\u001b[0m\u001b[0;34m\u001b[0m\u001b[0;34m\u001b[0m\u001b[0m\n\u001b[0;32m----> 2\u001b[0;31m \u001b[0mtest_number\u001b[0m \u001b[0;34m=\u001b[0m \u001b[0mint\u001b[0m\u001b[0;34m(\u001b[0m\u001b[0minput\u001b[0m\u001b[0;34m(\u001b[0m\u001b[0;34m\"enter a number between 1 and 10\\n\"\u001b[0m\u001b[0;34m)\u001b[0m\u001b[0;34m)\u001b[0m\u001b[0;34m\u001b[0m\u001b[0;34m\u001b[0m\u001b[0m\n\u001b[0m\u001b[1;32m      3\u001b[0m \u001b[0mprint\u001b[0m\u001b[0;34m(\u001b[0m\u001b[0;34mf\"You entered {test_number}\"\u001b[0m\u001b[0;34m)\u001b[0m\u001b[0;34m\u001b[0m\u001b[0;34m\u001b[0m\u001b[0m\n\u001b[1;32m      4\u001b[0m \u001b[0;31m# if number is greater than 10, then reject input\u001b[0m\u001b[0;34m\u001b[0m\u001b[0;34m\u001b[0m\u001b[0m\n\u001b[1;32m      5\u001b[0m '''if test_number>10:\n",
            "\u001b[0;32m/usr/local/lib/python3.10/dist-packages/ipykernel/kernelbase.py\u001b[0m in \u001b[0;36mraw_input\u001b[0;34m(self, prompt)\u001b[0m\n\u001b[1;32m    849\u001b[0m                 \u001b[0;34m\"raw_input was called, but this frontend does not support input requests.\"\u001b[0m\u001b[0;34m\u001b[0m\u001b[0;34m\u001b[0m\u001b[0m\n\u001b[1;32m    850\u001b[0m             )\n\u001b[0;32m--> 851\u001b[0;31m         return self._input_request(str(prompt),\n\u001b[0m\u001b[1;32m    852\u001b[0m             \u001b[0mself\u001b[0m\u001b[0;34m.\u001b[0m\u001b[0m_parent_ident\u001b[0m\u001b[0;34m,\u001b[0m\u001b[0;34m\u001b[0m\u001b[0;34m\u001b[0m\u001b[0m\n\u001b[1;32m    853\u001b[0m             \u001b[0mself\u001b[0m\u001b[0;34m.\u001b[0m\u001b[0m_parent_header\u001b[0m\u001b[0;34m,\u001b[0m\u001b[0;34m\u001b[0m\u001b[0;34m\u001b[0m\u001b[0m\n",
            "\u001b[0;32m/usr/local/lib/python3.10/dist-packages/ipykernel/kernelbase.py\u001b[0m in \u001b[0;36m_input_request\u001b[0;34m(self, prompt, ident, parent, password)\u001b[0m\n\u001b[1;32m    893\u001b[0m             \u001b[0;32mexcept\u001b[0m \u001b[0mKeyboardInterrupt\u001b[0m\u001b[0;34m:\u001b[0m\u001b[0;34m\u001b[0m\u001b[0;34m\u001b[0m\u001b[0m\n\u001b[1;32m    894\u001b[0m                 \u001b[0;31m# re-raise KeyboardInterrupt, to truncate traceback\u001b[0m\u001b[0;34m\u001b[0m\u001b[0;34m\u001b[0m\u001b[0m\n\u001b[0;32m--> 895\u001b[0;31m                 \u001b[0;32mraise\u001b[0m \u001b[0mKeyboardInterrupt\u001b[0m\u001b[0;34m(\u001b[0m\u001b[0;34m\"Interrupted by user\"\u001b[0m\u001b[0;34m)\u001b[0m \u001b[0;32mfrom\u001b[0m \u001b[0;32mNone\u001b[0m\u001b[0;34m\u001b[0m\u001b[0;34m\u001b[0m\u001b[0m\n\u001b[0m\u001b[1;32m    896\u001b[0m             \u001b[0;32mexcept\u001b[0m \u001b[0mException\u001b[0m \u001b[0;32mas\u001b[0m \u001b[0me\u001b[0m\u001b[0;34m:\u001b[0m\u001b[0;34m\u001b[0m\u001b[0;34m\u001b[0m\u001b[0m\n\u001b[1;32m    897\u001b[0m                 \u001b[0mself\u001b[0m\u001b[0;34m.\u001b[0m\u001b[0mlog\u001b[0m\u001b[0;34m.\u001b[0m\u001b[0mwarning\u001b[0m\u001b[0;34m(\u001b[0m\u001b[0;34m\"Invalid Message:\"\u001b[0m\u001b[0;34m,\u001b[0m \u001b[0mexc_info\u001b[0m\u001b[0;34m=\u001b[0m\u001b[0;32mTrue\u001b[0m\u001b[0;34m)\u001b[0m\u001b[0;34m\u001b[0m\u001b[0;34m\u001b[0m\u001b[0m\n",
            "\u001b[0;31mKeyboardInterrupt\u001b[0m: Interrupted by user"
          ]
        }
      ]
    },
    {
      "cell_type": "markdown",
      "source": [
        "# Basic Plotting\n",
        "\n",
        "Visualizing variables is essential for checking and understanding the results\n",
        "of any code that we write.\n",
        "\n",
        "We will start with a simple example to plot $y = 2 x^2$ over the range $0 \\le x \\le 10$."
      ],
      "metadata": {
        "id": "tSovgxtxyR7-"
      }
    },
    {
      "cell_type": "code",
      "source": [
        "# code to make plot here\n",
        "\n",
        "\n",
        "\n",
        "# define x using np.linspace\n",
        "x= np.linspace(0,10,100)\n",
        "#range with a start, end, #of points\n",
        "\n",
        "\n",
        "# define y\n",
        "y=2*x**2\n",
        "\n",
        "# open a figure\n",
        "\n",
        "plt.plot(x,y)\n",
        "plt.figure(figsize=(8,6))\n",
        "# plot y vs x using plt.plot\n",
        "\n",
        "\n",
        "plt.subplot(1,2,1)\n",
        "plt.plot(x,y,'cs',markersize=4,label=\"$y=2x^2$\")\n",
        "plt.ylabel(\"y\")\n",
        "plt.xlabel(\"x\")\n",
        "plt.legend()\n",
        "plt.title(\"Graph\",fontsize=20)\n",
        "\n",
        "\n",
        "# make another figure, but use plt.scatter instead of plt.plot\n",
        "\n",
        "plt.figure(figsize=(8,6))\n",
        "plt.subplot(1,2,2)\n",
        "\n",
        "mycolor= np.arange(len(x))\n",
        "\n",
        "plt.scatter(x,y,c=mycolor,label=\"$y=2x^2$\")\n",
        "cb=plt.colorbar(label='index')\n",
        "\n",
        "plt.ylabel(\"y\")\n",
        "plt.xlabel(\"x\")\n",
        "plt.legend()\n",
        "plt.title(\"Graph\",fontsize=20)\n",
        "\n",
        "\n",
        "\n",
        "\n",
        "\n",
        "\n",
        "\n"
      ],
      "metadata": {
        "id": "K401UT-QzA4s",
        "colab": {
          "base_uri": "https://localhost:8080/",
          "height": 1000
        },
        "outputId": "07a43bd8-0800-4ff7-f047-5fb002899abe"
      },
      "execution_count": 134,
      "outputs": [
        {
          "output_type": "execute_result",
          "data": {
            "text/plain": [
              "Text(0.5, 1.0, 'Graph')"
            ]
          },
          "metadata": {},
          "execution_count": 134
        },
        {
          "output_type": "display_data",
          "data": {
            "text/plain": [
              "<Figure size 640x480 with 1 Axes>"
            ],
            "image/png": "[encoded data removed]"
          },
          "metadata": {}
        },
        {
          "output_type": "display_data",
          "data": {
            "text/plain": [
              "<Figure size 800x600 with 1 Axes>"
            ],
            "image/png": "[encoded data removed]"
          },
          "metadata": {}
        },
        {
          "output_type": "display_data",
          "data": {
            "text/plain": [
              "<Figure size 800x600 with 2 Axes>"
            ],
            "image/png": "[encoded data removed]"
          },
          "metadata": {}
        }
      ]
    },
    {
      "cell_type": "code",
      "source": [
        "def lucky7(test_value):\n",
        "  if(test_number >10):\n",
        "      print(\"too high\")\n",
        "      return 99\n",
        "\n",
        "  elif(test_number<1):\n",
        "    print(\"too low\")\n",
        "    return -99\n",
        "\n",
        "  elif(test_number==7):\n",
        "    print(\"lucky guess\")\n",
        "    return 1\n",
        "\n",
        "  else:\n",
        "    print(\"too bad\")\n",
        "    return 0\n"
      ],
      "metadata": {
        "id": "0Oa7EG-f0_AM"
      },
      "execution_count": 163,
      "outputs": []
    },
    {
      "cell_type": "code",
      "source": [
        "test_number = 11\n",
        "lucky7(test_value)"
      ],
      "metadata": {
        "colab": {
          "base_uri": "https://localhost:8080/"
        },
        "id": "dkjcgkOsIBZj",
        "outputId": "5c1d2a82-bca9-4874-e11c-82b7c8218635"
      },
      "execution_count": 152,
      "outputs": [
        {
          "output_type": "stream",
          "name": "stdout",
          "text": [
            "too high\n"
          ]
        },
        {
          "output_type": "execute_result",
          "data": {
            "text/plain": [
              "99"
            ]
          },
          "metadata": {},
          "execution_count": 152
        }
      ]
    },
    {
      "cell_type": "code",
      "source": [
        "test_number = 0\n",
        "lucky7(test_value)"
      ],
      "metadata": {
        "colab": {
          "base_uri": "https://localhost:8080/"
        },
        "id": "xpuUn9vPIBsy",
        "outputId": "dbe128ac-2788-4726-e0b9-73d3fffb88d4"
      },
      "execution_count": 154,
      "outputs": [
        {
          "output_type": "stream",
          "name": "stdout",
          "text": [
            "too low\n"
          ]
        },
        {
          "output_type": "execute_result",
          "data": {
            "text/plain": [
              "-99"
            ]
          },
          "metadata": {},
          "execution_count": 154
        }
      ]
    },
    {
      "cell_type": "code",
      "source": [
        "test_number = 7\n",
        "lucky7(test_value)"
      ],
      "metadata": {
        "colab": {
          "base_uri": "https://localhost:8080/"
        },
        "id": "7A9AEyutIOI-",
        "outputId": "d8501638-5143-43a6-cad4-2e6f005aa5dc"
      },
      "execution_count": 155,
      "outputs": [
        {
          "output_type": "stream",
          "name": "stdout",
          "text": [
            "lucky guess\n"
          ]
        },
        {
          "output_type": "execute_result",
          "data": {
            "text/plain": [
              "1"
            ]
          },
          "metadata": {},
          "execution_count": 155
        }
      ]
    },
    {
      "cell_type": "code",
      "source": [
        "x=2\n",
        "assert x==2\n",
        "\n",
        "assert lucky7(7) == 1"
      ],
      "metadata": {
        "colab": {
          "base_uri": "https://localhost:8080/"
        },
        "id": "kTAhtGELLe13",
        "outputId": "1b530cef-f780-4479-f29f-80ec7ab2a3eb"
      },
      "execution_count": 164,
      "outputs": [
        {
          "output_type": "stream",
          "name": "stdout",
          "text": [
            "lucky guess\n"
          ]
        }
      ]
    },
    {
      "cell_type": "code",
      "source": [
        "assert lucky7(0) == 99"
      ],
      "metadata": {
        "colab": {
          "base_uri": "https://localhost:8080/",
          "height": 192
        },
        "id": "gAKuTduMMDfz",
        "outputId": "723d8dd0-38a9-4b63-b117-779473fcdf46"
      },
      "execution_count": 168,
      "outputs": [
        {
          "output_type": "stream",
          "name": "stdout",
          "text": [
            "lucky guess\n"
          ]
        },
        {
          "output_type": "error",
          "ename": "AssertionError",
          "evalue": "",
          "traceback": [
            "\u001b[0;31m---------------------------------------------------------------------------\u001b[0m",
            "\u001b[0;31mAssertionError\u001b[0m                            Traceback (most recent call last)",
            "\u001b[0;32m<ipython-input-168-191d4314cb80>\u001b[0m in \u001b[0;36m<cell line: 1>\u001b[0;34m()\u001b[0m\n\u001b[0;32m----> 1\u001b[0;31m \u001b[0;32massert\u001b[0m \u001b[0mlucky7\u001b[0m\u001b[0;34m(\u001b[0m\u001b[0;36m0\u001b[0m\u001b[0;34m)\u001b[0m \u001b[0;34m==\u001b[0m \u001b[0;36m99\u001b[0m\u001b[0;34m\u001b[0m\u001b[0;34m\u001b[0m\u001b[0m\n\u001b[0m",
            "\u001b[0;31mAssertionError\u001b[0m: "
          ]
        }
      ]
    },
    {
      "cell_type": "code",
      "source": [],
      "metadata": {
        "id": "FDZ9n9LCMOwM"
      },
      "execution_count": null,
      "outputs": []
    }
  ]
}